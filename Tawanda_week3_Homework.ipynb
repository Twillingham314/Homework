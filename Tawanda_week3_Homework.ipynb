{
 "cells": [
  {
   "cell_type": "markdown",
   "id": "1e1169d4",
   "metadata": {},
   "source": [
    "# Section 3 Homework\n",
    "1. What is an algorithm? Algorithms are detailed sets of guidelines created for a computer program to complete tasks efficiently and thoroughly.\n",
    "2. Variable names may not start with certain characters - name two.\n",
    "3. What is a Semantic error? A semantic error is a programming error that occurs when a line of code violates the semantics of the language. In other words, it’s an error that comes from the language being misused rather than getting the syntax wrong\n",
    "4. What is the #1 rule of coding / debugging? Assume nothing\n",
    "5. List 5 Python reserved words. If, else, While, From, and Return\n",
    "\n",
    "\n"
   ]
  },
  {
   "cell_type": "code",
   "execution_count": 2,
   "id": "41311724",
   "metadata": {},
   "outputs": [
    {
     "name": "stdout",
     "output_type": "stream",
     "text": [
      "My name is Tawanda.\n",
      "I love Salad.\n",
      "I want to be a Airline Specialist.\n"
     ]
    }
   ],
   "source": [
    "# 6. Write a multi-line string with your name, favorite food, and dream job on 3 different line\n",
    "aboutme = \"\"\"My name is Tawanda.\n",
    "I love Salad.\n",
    "I want to be a Airline Specialist.\"\"\"   \n",
    "print(aboutme)"
   ]
  },
  {
   "cell_type": "code",
   "execution_count": 7,
   "id": "b476f0e6",
   "metadata": {},
   "outputs": [
    {
     "name": "stdout",
     "output_type": "stream",
     "text": [
      "7\n",
      "a\n"
     ]
    }
   ],
   "source": [
    "# 7. Assign 5 different data types to 5 different variables. \n",
    "name = \"Tawanda\"          # string\n",
    "age = 52                 # integer\n",
    "height = 5.7             # float\n",
    "is_student = True         # boolean \n",
    "hobbies = [\"shopping\", \"traveling\", \"cooking\"]  # list  \n",
    "print (len(name))\n",
    "print (name[3])\n",
    "\n"
   ]
  },
  {
   "cell_type": "code",
   "execution_count": 10,
   "id": "92045098",
   "metadata": {},
   "outputs": [
    {
     "name": "stdout",
     "output_type": "stream",
     "text": [
      "ing Data Analyt\n",
      "Learning Data Analytics and Python is Great!\n",
      "Learning Data Analytics and Python is Awesome!\n",
      "Yes, 'Python' is found in the string.\n"
     ]
    }
   ],
   "source": [
    "# 8. Create a new variable called savvy, and assign it the string with this phrase \"Learning Data Analytics and Python is Awesome!\"\n",
    "savvy = \"Learning Data Analytics and Python is Awesome!\"\n",
    "print(savvy[5:20])\n",
    "print(savvy.replace(\"Awesome\", \"Great\"))\n",
    "print(savvy)\n",
    "if \"Python\" in savvy:\n",
    "    print(\"Yes, 'Python' is found in the string.\")"
   ]
  },
  {
   "cell_type": "code",
   "execution_count": 14,
   "id": "2f26df03",
   "metadata": {},
   "outputs": [
    {
     "name": "stdout",
     "output_type": "stream",
     "text": [
      "My name is Tawanda. I am 53 years old and my height is 5.7 feet.\n",
      "Tawanda\n",
      "53.0\n"
     ]
    }
   ],
   "source": [
    "# 9. Create and assign 3 more variables called name, age and length using the multi-variable naming method\n",
    "name=\"Tawanda\"\n",
    "age=53\n",
    "length=5.7\n",
    "minibio = f\"My name is {name}. I am {age} years old and my height is {length} feet.\"\n",
    "print(minibio)      \n",
    "print(name) \n",
    "age_float = float(age)\n",
    "print(age_float)\n"
   ]
  },
  {
   "cell_type": "code",
   "execution_count": null,
   "id": "bda7e155",
   "metadata": {},
   "outputs": [
    {
     "name": "stdout",
     "output_type": "stream",
     "text": [
      "7\n",
      "[True, 'Salad', 'Traveling']\n",
      "['Tawanda', 53, 5.7, True, 'Salad', 'Traveling', False, True, 'Salad', 'Traveling']\n",
      "[5, 17, 23, 45, 100]\n",
      "[5, 17, 23, 45, 100]\n",
      "[True, 'Salad', 'Traveling', 5, 17, 23, 45, 100]\n"
     ]
    }
   ],
   "source": [
    "#10. Creating and list of elements of mixed data types\n",
    "my_list = [\"Tawanda\", 53, 5.7, True, \"Salad\"]\n",
    "append_item = my_list.append(\"Traveling\")\n",
    "append_item = my_list.append(False)\n",
    "listlength = len(my_list)\n",
    "print(listlength)\n",
    "\n",
    "secondlist = my_list[3:6]\n",
    "print(secondlist)\n",
    "my_list.extend (secondlist)\n",
    "print(my_list)\n",
    "\n",
    "simList = [17, 23, 5, 100, 45]\n",
    "simList.sort()\n",
    "print(simList)\n",
    "import copy\n",
    "thirdlist = copy.deepcopy(simList)\n",
    "print(thirdlist)\n",
    "fourthlist = secondlist + thirdlist\n",
    "print(fourthlist)\n",
    "\n",
    "\n"
   ]
  },
  {
   "cell_type": "code",
   "execution_count": 17,
   "id": "600d02ef",
   "metadata": {},
   "outputs": [
    {
     "name": "stdout",
     "output_type": "stream",
     "text": [
      "Tawanda\n",
      "{'name': 'Tawanda', 'age': 'Tawanda', 'height': 5.7, 'is_student': True, 'hobbies': ['shopping', 'traveling', 'cooking']}\n",
      "{'name': 'Tawanda', 'age': 'Tawanda', 'height': 5.7, 'is_student': True, 'hobbies': ['shopping', 'traveling', 'cooking'], 'color': 'green'}\n",
      "{'name': 'Tawanda', 'age': 'Tawanda', 'height': 5.7, 'is_student': True, 'hobbies': ['shopping', 'traveling', 'cooking'], 'color': 'green', 'dogs': ('Chyna', 'Bruno')}\n",
      "['name', 'age', 'height', 'is_student', 'hobbies', 'color', 'dogs']\n",
      "['Tawanda', 'Tawanda', 5.7, True, ['shopping', 'traveling', 'cooking'], 'green', ('Chyna', 'Bruno')]\n",
      "{'name': 'Tawanda', 'age': 'Tawanda', 'height': 5.7, 'hobbies': ['shopping', 'traveling', 'cooking'], 'color': 'green', 'dogs': ('Chyna', 'Bruno')}\n",
      "{}\n"
     ]
    }
   ],
   "source": [
    "#13. Dictionaries\n",
    "my_dict = {\n",
    "    \"name\": \"Tawanda\",\n",
    "    \"age\": 53,\n",
    "    \"height\": 5.7,\n",
    "    \"is_student\": True,\n",
    "    \"hobbies\": [\"shopping\", \"traveling\", \"cooking\"]\n",
    "}\n",
    "print(my_dict[\"name\"])\n",
    "my_dict[\"age\"] = \"Tawanda\"\n",
    "print(my_dict)\n",
    "my_dict[\"color\"] = \"green\"\n",
    "print(my_dict)\n",
    "my_dict[\"dogs\"] = (\"Chyna\", \"Bruno\")\n",
    "print(my_dict)\n",
    "\n",
    "print(list(my_dict.keys()))\n",
    "print(list(my_dict.values()))\n",
    "\n",
    "copied_dict = my_dict.copy()\n",
    "pop_item = copied_dict.pop(\"is_student\")\n",
    "print(copied_dict)\n",
    "copied_dict.clear()\n",
    "print(copied_dict)\n",
    "\n",
    "\n"
   ]
  }
 ],
 "metadata": {
  "kernelspec": {
   "display_name": "Python 3",
   "language": "python",
   "name": "python3"
  },
  "language_info": {
   "codemirror_mode": {
    "name": "ipython",
    "version": 3
   },
   "file_extension": ".py",
   "mimetype": "text/x-python",
   "name": "python",
   "nbconvert_exporter": "python",
   "pygments_lexer": "ipython3",
   "version": "3.13.5"
  }
 },
 "nbformat": 4,
 "nbformat_minor": 5
}
