{
 "cells": [
  {
   "cell_type": "markdown",
   "id": "9d60fc16",
   "metadata": {},
   "source": [
    "# Section 4 Homework\n",
    "1. What does one need to do to use a module? \n",
    "Importing a module / library: import [module/library name]\n",
    "\n",
    "2. Name a Module (not the DateTime Nodule) we looked at and write a line or 2 of code as an example using this module.\n",
    "import welcome as we\n",
    "from welcome import welcome_message\n",
    "\n",
    "3. What is a benefit of using Exception handling? \n",
    "Prevents program crashes by providing a safety net for unexpected events. Python will normally stop and generate an error message when something goes wrong.\n",
    "\n",
    "\n",
    "\n",
    "\n",
    "4. what are the 4 components used for Python Exception Handling?\n",
    "try - Tests a block of code for errors\n",
    "except - Handles the error\n",
    "else - Executes code when there is NO error\n",
    "finally - Executes code, regardless of try and except\n",
    "\n",
    "\n",
    "5. NumPy arrays are like what Python data type? \n",
    "Homogeneous Data Type\n",
    "\n",
    "\n",
    "6. What is one of the main benefits of using NumPy arrays. \n",
    "One main benefit of using NumPy arrays is faster and more memory-efficient computation compared to standard Python lists, which is achieved because NumPy arrays are implemented in C and store data in a contiguous block of memory, enabling vectorized operations without slow Python loops. \n",
    "\n",
    "\n",
    "7. What is one of the main requirements about the 'dtype' of NumPy arrays?\n",
    "One of the main requirements regarding the dtype of NumPy arrays is that all elements within a single NumPy array must be of the same data type.\n",
    "\n",
    "\n",
    "8. Of the 10 uses of NumPy, name 2.\n",
    "Stacking\n",
    "Copying and Viewing arrays\n",
    "\n",
    "\n",
    "9. Name one of the other libraries we'll use with NumPy?\n",
    "Panda\n",
    "\n",
    "10. What is the shape of NumPy arrays?\n",
    "The shape is a tuple of non-negative integers that specify the dimensions, length and size of each array (3,2,4)\n",
    "\n",
    "\n",
    "11. What is a Tensor?\n",
    " An array with 3+ dimensions\n",
    "\n",
    "12. Name a reason why it's better using NumPy for Data Analysis than using a Python List? \n",
    "Benefits of Arrays vs. Lists:\n",
    "Occupy less memory\n",
    "Faster\n",
    "More convenient\n",
    "\n",
    "\n",
    "13. When creating an \"empty\" array, where do the elements come from?\n",
    "Python: When creating an empty list [], it truly contains no elements. If you create a list of a specific size using [None] * n, it will be filled with None values.\n",
    "\n"
   ]
  },
  {
   "cell_type": "code",
   "execution_count": 1,
   "id": "7cdd86c3",
   "metadata": {},
   "outputs": [
    {
     "name": "stdout",
     "output_type": "stream",
     "text": [
      "b is greater\n"
     ]
    }
   ],
   "source": [
    "# Flow Control Methods\n",
    "# 1. if statement# Simple `if` statement\n",
    "a = 45\n",
    "b = 68\n",
    "\n",
    "if b > a:\n",
    "    print(\"b is greater\")\n",
    "\n"
   ]
  },
  {
   "cell_type": "code",
   "execution_count": 2,
   "id": "183fd4f3",
   "metadata": {},
   "outputs": [
    {
     "name": "stdout",
     "output_type": "stream",
     "text": [
      "value =  4 and threshold =  5\n",
      "value is below or equal to the threshold\n"
     ]
    }
   ],
   "source": [
    "\n",
    "#2. if-else statement\n",
    "# if ... else ...\n",
    "\n",
    "value = 4\n",
    "threshold = 5\n",
    "print(\"value = \", value, \"and threshold = \", threshold)\n",
    "\n",
    "if value > threshold:\n",
    "    print(\"value is above threshold\")\n",
    "else:\n",
    "    print(\"value is below or equal to the threshold\")\n"
   ]
  },
  {
   "cell_type": "code",
   "execution_count": 4,
   "id": "0d6d60e7",
   "metadata": {},
   "outputs": [
    {
     "name": "stdout",
     "output_type": "stream",
     "text": [
      "Total characters: 43\n"
     ]
    }
   ],
   "source": [
    "\n",
    "#3. Loop over the following string to (1) count all the characters in the string and (2) print out all the vowels -- \"The quick brown fox jumps over the lazy dog\"\n",
    "\n",
    "# The string to analyze\n",
    "text = \"The quick brown fox jumps over the lazy dog\"    \n",
    "# Initialize a counter for the characters\n",
    "char_count = 0\n",
    "# Initialize a list to store the vowels found\n",
    "vowels_found = []\n",
    "# Define a set of vowels for easy checking\n",
    "vowels = \"aeiouAEIOU\"\n",
    "# Loop through each character in the string\n",
    "for char in text:\n",
    "    # Increment the character counter\n",
    "    char_count += 1\n",
    "    # Check if the character is a vowel\n",
    "    if char in vowels:\n",
    "        vowels_found.append(char)\n",
    "# Print the total number of characters\n",
    "print(\"Total characters:\", char_count)\n",
    "\n"
   ]
  },
  {
   "cell_type": "code",
   "execution_count": 5,
   "id": "87086401",
   "metadata": {},
   "outputs": [
    {
     "name": "stdout",
     "output_type": "stream",
     "text": [
      "A stunning gown in amaretto brown.\n",
      "A stunning gown in prosecco gold.\n",
      "A stunning gown in pistachio green.\n",
      "A stunning gown in tiramisu beige.\n",
      "A stunning blazer in amaretto brown.\n",
      "A stunning blazer in prosecco gold.\n",
      "A stunning blazer in pistachio green.\n",
      "A stunning blazer in tiramisu beige.\n",
      "A stunning dress in amaretto brown.\n",
      "A stunning dress in prosecco gold.\n",
      "A stunning dress in pistachio green.\n",
      "A stunning dress in tiramisu beige.\n",
      "A stunning suit in amaretto brown.\n",
      "A stunning suit in prosecco gold.\n",
      "A stunning suit in pistachio green.\n",
      "A stunning suit in tiramisu beige.\n",
      "A stunning heels in amaretto brown.\n",
      "A stunning heels in prosecco gold.\n",
      "A stunning heels in pistachio green.\n",
      "A stunning heels in tiramisu beige.\n"
     ]
    }
   ],
   "source": [
    "\n",
    "\n",
    "\n",
    "#4.  Write a nested loop that prints out every piece of clothing from the couture list, in every fashionable color from the panettone set:\n",
    "# The list of clothing items\n",
    "couture = [\"gown\", \"blazer\", \"dress\", \"suit\", \"heels\"]\n",
    "\n",
    "# The set of fashionable colors\n",
    "panettone = {\"tiramisu beige\", \"amaretto brown\", \"prosecco gold\", \"pistachio green\"}\n",
    "\n",
    "# Loop through every piece of clothing in the couture list\n",
    "for clothing in couture:\n",
    "    # For each piece of clothing, loop through every color in the panettone set\n",
    "    for color in panettone:\n",
    "        print(f\"A stunning {clothing} in {color}.\")\n"
   ]
  },
  {
   "cell_type": "code",
   "execution_count": 7,
   "id": "f31387bf",
   "metadata": {},
   "outputs": [
    {
     "name": "stdout",
     "output_type": "stream",
     "text": [
      "5050\n"
     ]
    }
   ],
   "source": [
    "\n",
    "#5. Use range as a loop to calculate the sum of all the numbers from 1 to 100\n",
    "# Initialize a variable to store the sum\n",
    "total = 0\n",
    "\n",
    "# Loop through the numbers from 1 up to (but not including) 101\n",
    "for number in range(1, 101):\n",
    "    total += number\n",
    "\n",
    "# Print the final result\n",
    "print(total)\n"
   ]
  },
  {
   "cell_type": "code",
   "execution_count": 8,
   "id": "33746ea5",
   "metadata": {},
   "outputs": [
    {
     "name": "stdout",
     "output_type": "stream",
     "text": [
      "banana\n"
     ]
    }
   ],
   "source": [
    "\n",
    "#6. Print the second item in this fruits list. [\"apple\", \"banana\", \"cherry\"]\n",
    "fruits = [\"apple\", \"banana\", \"cherry\"]\n",
    "print(fruits[1])\n",
    "# Output: banana\n"
   ]
  },
  {
   "cell_type": "code",
   "execution_count": 9,
   "id": "92bbf43b",
   "metadata": {},
   "outputs": [
    {
     "name": "stdout",
     "output_type": "stream",
     "text": [
      "['kiwi', 'banana', 'cherry']\n"
     ]
    }
   ],
   "source": [
    "\n",
    "\n",
    "#7. Change the value from \"apple\" to \"kiwi\", in the fruits list. [\"apple\", \"banana\", \"cherry\"]\n",
    "fruits = [\"apple\", \"banana\", \"cherry\"]\n",
    "fruits[0] = \"kiwi\"\n",
    "print(fruits)\n"
   ]
  },
  {
   "cell_type": "code",
   "execution_count": 10,
   "id": "31c9bf08",
   "metadata": {},
   "outputs": [
    {
     "name": "stdout",
     "output_type": "stream",
     "text": [
      "['apple', 'banana', 'cherry', 'orange']\n"
     ]
    }
   ],
   "source": [
    "\n",
    "#8. Use the append method to add \"orange\" to the fruits list. [\"apple\", \"banana\", \"cherry\"]\n",
    "fruits = [\"apple\", \"banana\", \"cherry\"]\n",
    "fruits.append(\"orange\")\n",
    "print(fruits)\n"
   ]
  },
  {
   "cell_type": "code",
   "execution_count": 11,
   "id": "73649a80",
   "metadata": {},
   "outputs": [
    {
     "name": "stdout",
     "output_type": "stream",
     "text": [
      "['apple', 'lemon', 'banana', 'cherry']\n"
     ]
    }
   ],
   "source": [
    "\n",
    "#9. Use the insert method to add \"lemon\" as the second item in the fruits list. [\"apple\", \"banana\", \"cherry\"]\n",
    "fruits = [\"apple\", \"banana\", \"cherry\"]\n",
    "fruits.insert(1, \"lemon\")\n",
    "print(fruits)\n"
   ]
  },
  {
   "cell_type": "code",
   "execution_count": 12,
   "id": "432afaec",
   "metadata": {},
   "outputs": [
    {
     "name": "stdout",
     "output_type": "stream",
     "text": [
      "['apple', 'cherry']\n"
     ]
    }
   ],
   "source": [
    "\n",
    "\n",
    "#10. Use the remove method to remove \"banana\" from the fruits list. [\"apple\", \"banana\", \"cherry\"]\n",
    "fruits = [\"apple\", \"banana\", \"cherry\"]\n",
    "fruits.remove(\"banana\")\n",
    "print(fruits)\n"
   ]
  },
  {
   "cell_type": "code",
   "execution_count": 13,
   "id": "124a7032",
   "metadata": {},
   "outputs": [
    {
     "name": "stdout",
     "output_type": "stream",
     "text": [
      "kiwi\n",
      "melon\n"
     ]
    }
   ],
   "source": [
    "\n",
    "\n",
    "#11. Use negative indexing to print the 3rd and 2nd to last items in the list. [\"apple\", \"banana\", \"cherry\", \"orange\", \"kiwi\", \"melon\", \"mango\"]\n",
    "fruits = [\"apple\", \"banana\", \"cherry\", \"orange\", \"kiwi\", \"melon\", \"mango\"]\n",
    "print(fruits[-3])  # Output: kiwi\n",
    "print(fruits[-2])  # Output: melon\n",
    "   "
   ]
  },
  {
   "cell_type": "code",
   "execution_count": 14,
   "id": "111e42eb",
   "metadata": {},
   "outputs": [
    {
     "name": "stdout",
     "output_type": "stream",
     "text": [
      "['cherry', 'orange', 'kiwi']\n"
     ]
    }
   ],
   "source": [
    " \n",
    "#12. Use a range of indexes to print the third, fourth, and fifth item in the list. [\"apple\", \"banana\", \"cherry\", \"orange\", \"kiwi\", \"melon\", \"mango\"]\n",
    "fruits = [\"apple\", \"banana\", \"cherry\", \"orange\", \"kiwi\", \"melon\", \"mango\"]\n",
    "print(fruits[2:5])  # Output: ['cherry', 'orange',\n"
   ]
  },
  {
   "cell_type": "code",
   "execution_count": 15,
   "id": "1fb1eeaf",
   "metadata": {},
   "outputs": [
    {
     "name": "stdout",
     "output_type": "stream",
     "text": [
      "7\n"
     ]
    }
   ],
   "source": [
    "\n",
    "\n",
    "#13. Use the correct syntax to print the number of items in the list. [\"apple\", \"banana\", \"cherry\", \"orange\", \"kiwi\", \"melon\", \"mango\"]\n",
    "fruits = [\"apple\", \"banana\", \"cherry\", \"orange\", \"kiwi\", \"melon\", \"mango\"]\n",
    "print(len(fruits))  # Output: 7\n"
   ]
  },
  {
   "cell_type": "code",
   "execution_count": null,
   "id": "c9d87979",
   "metadata": {},
   "outputs": [
    {
     "name": "stdout",
     "output_type": "stream",
     "text": [
      "['orange', 'melon', 'mango', 'kiwi', 'cherry', 'banana', 'apple']\n"
     ]
    }
   ],
   "source": [
    "#14. Use the correct syntax to sort this list in reverse order [\"apple\", \"banana\", \"cherry\", \"orange\", \"kiwi\", \"melon\", \"mango\"]\n",
    "fruits = [\"apple\", \"banana\", \"cherry\", \"orange\", \"kiwi\", \"melon\", \"mango\"]\n",
    "fruits.sort(reverse=True)\n",
    "print(fruits)  # Output: ['orange', 'mango', 'melon', 'kiwi', 'cherry', 'banana', 'apple']\n",
    "\n"
   ]
  },
  {
   "cell_type": "code",
   "execution_count": 17,
   "id": "7eac7aea",
   "metadata": {},
   "outputs": [
    {
     "name": "stdout",
     "output_type": "stream",
     "text": [
      "Current Date and Time: 2025-10-01 21:38:10.626286\n",
      "Full Month Name: October\n"
     ]
    }
   ],
   "source": [
    "#Use a Python code file for this section:\n",
    "\n",
    "#15. Use the DateTime module to get Current Date and Time, and save it to a variable. Then extract just the Full month name form that variable.\n",
    "from datetime import datetime\n",
    "current_datetime = datetime.now()\n",
    "full_month_name = current_datetime.strftime(\"%B\")\n",
    "print(\"Current Date and Time:\", current_datetime)\n",
    "print(\"Full Month Name:\", full_month_name)\n"
   ]
  },
  {
   "cell_type": "code",
   "execution_count": 19,
   "metadata": {},
   "outputs": [
    {
     "name": "stdout",
     "output_type": "stream",
     "text": [
      "Hi Alice! Happy Monday!\n",
      "Hi Bob! Happy Sunday!\n"
     ]
    }
   ],
   "source": [
    "\n",
    "#16. Write a simple function that takes 2 parameters -- a first name and a day name.\n",
    "# Set a default value for the day name of Sunday.\n",
    "# Have the function print out a greeting -- using the parameters -- that says something like \"Hi first-name! Happy day-name!\". Remember to use the variables in the greeting to replace first-name and day-name.\n",
    "# Invoke this function with 2 variables.\n",
    "# Invoke this function with 1 variable only.\n",
    "def greet(first_name, day_name=\"Sunday\"):\n",
    "    print(f\"Hi {first_name}! Happy {day_name}!\")    \n",
    "greet(\"Alice\", \"Monday\")  # Invoking with 2 variables   \n",
    "greet(\"Bob\")  # Invoking with 1 variable only, day_name defaults to \"Sunday\"\n"
   ]
  },
  {
   "cell_type": "code",
   "execution_count": 22,
   "id": "ccd61021",
   "metadata": {},
   "outputs": [
    {
     "name": "stdout",
     "output_type": "stream",
     "text": [
      "Error: Invalid input. Please enter a valid integer.\n"
     ]
    }
   ],
   "source": [
    "\n",
    "\n",
    "#17. Write a block of code to handle one of the most common Python exception errors. Select one of the common errors from the curriculum section on Python Exception handling.\n",
    "try:\n",
    "    # Attempt to convert a string to an integer\n",
    "    user_input = \"abc\"\n",
    "    number = int(user_input)\n",
    "    print(\"The number is:\", number)\n",
    "except ValueError:\n",
    "    print(\"Error: Invalid input. Please enter a valid integer.\")\n",
    "    \n",
    "\n",
    "\n",
    "\n",
    "\n",
    "\n",
    "\n",
    "\n"
   ]
  }
 ],
 "metadata": {
  "kernelspec": {
   "display_name": "Python 3",
   "language": "python",
   "name": "python3"
  },
  "language_info": {
   "codemirror_mode": {
    "name": "ipython",
    "version": 3
   },
   "file_extension": ".py",
   "mimetype": "text/x-python",
   "name": "python",
   "nbconvert_exporter": "python",
   "pygments_lexer": "ipython3",
   "version": "3.13.5"
  }
 },
 "nbformat": 4,
 "nbformat_minor": 5
}
