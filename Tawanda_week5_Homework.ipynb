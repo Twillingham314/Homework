{
 "cells": [
  {
   "cell_type": "markdown",
   "id": "a72aa0ca",
   "metadata": {},
   "source": [
    "# Section 5 Homework\n",
    "\n",
    "1. What does Pandas stand for? \n",
    "Panel Data and Python Data Analysis\n",
    "\n",
    "2. What are the 2 collections used in Pandas?\n",
    "\n",
    "3. Name 4 things Pandas can do for us.\n",
    "Data Cleansing\tData fill\n",
    "Data normalization\tMerges and joins\n",
    "Data visualization\tStatistical analysis\n",
    "Data inspection\tLoading and saving data\n",
    "\n",
    "\n",
    "4. To permanently sort a DataFrame, which keyword should one use with the df.sort() method?\n",
    "\n",
    "5. What is a CSV?\n",
    "\n",
    "6. When cleaning data what values do we not like in our data?\n"
   ]
  },
  {
   "cell_type": "code",
   "execution_count": null,
   "id": "17273b6b",
   "metadata": {},
   "outputs": [],
   "source": [
    "7. Import NumPy, use one of the NumPy methods and create an array with a shape of (2, 3, 2). You can use the reshape method -- .reshape()\n",
    "\n"
   ]
  }
 ],
 "metadata": {
  "kernelspec": {
   "display_name": "Python 3",
   "language": "python",
   "name": "python3"
  },
  "language_info": {
   "codemirror_mode": {
    "name": "ipython",
    "version": 3
   },
   "file_extension": ".py",
   "mimetype": "text/x-python",
   "name": "python",
   "nbconvert_exporter": "python",
   "pygments_lexer": "ipython3",
   "version": "3.13.5"
  }
 },
 "nbformat": 4,
 "nbformat_minor": 5
}
